{
 "cells": [
  {
   "cell_type": "code",
   "execution_count": 10,
   "metadata": {},
   "outputs": [],
   "source": [
    "import matplotlib.pyplot as plt\n",
    "import statsmodels.api as sm\n",
    "import pandas as pd\n",
    "import subprocess\n",
    "from pathlib import Path as p\n",
    "import numpy as np\n",
    "plt.close('all')"
   ]
  },
  {
   "cell_type": "code",
   "execution_count": 18,
   "metadata": {},
   "outputs": [],
   "source": [
    "path = p().resolve()\n",
    "p(path, 'inputs', 'insert').mkdir(parents=True, exist_ok=True)\n",
    "p(path, 'inputs', 'start_remove').mkdir(parents=True, exist_ok=True)\n",
    "p(path, 'inputs', 'end_remove').mkdir(parents=True, exist_ok=True)\n",
    "p(path, 'outputs', 'insert').mkdir(parents=True, exist_ok=True)\n",
    "p(path, 'outputs', 'start_remove').mkdir(parents=True, exist_ok=True)\n",
    "p(path, 'outputs', 'end_remove').mkdir(parents=True, exist_ok=True)"
   ]
  },
  {
   "cell_type": "code",
   "execution_count": 12,
   "metadata": {},
   "outputs": [],
   "source": [
    "def compile_script(tree):\n",
    "    trees = p(path, 'trees')\n",
    "    subprocess.run(\n",
    "        [\n",
    "            'gcc', '-g',\n",
    "            p(trees, tree, f'{tree}.c'),\n",
    "            p(trees, 'main.c'),\n",
    "            '-include', p(trees, tree, f'{tree}.h'), \n",
    "            '-o', \n",
    "            p(trees, tree, f'{tree}.out')\n",
    "        ]\n",
    "    )\n",
    "    \n",
    "def generate_inputs(path, size):\n",
    "    with open(p(path, 'insert', 'worst_case.in'), 'w') as insert:\n",
    "        with open(p(path, 'start_remove', 'worst_case.in'), 'w') as start_remove:\n",
    "            with open(p(path, 'end_remove', 'worst_case.in'), 'w') as end_remove:\n",
    "                nums = list(range(1, size + 1))\n",
    "                for num in nums:\n",
    "                    insert.write(f'1 {num}\\n')\n",
    "                    start_remove.write(f'1 {num}\\n')\n",
    "                    end_remove.write(f'1 {num}\\n')\n",
    "                for num in nums:\n",
    "                    start_remove.write(f'2 {num}\\n')\n",
    "                for num in reversed(nums):\n",
    "                    end_remove.write(f'2 {num}\\n')\n",
    "                insert.write('0\\n')\n",
    "                start_remove.write('0\\n')\n",
    "                end_remove.write('0\\n')\n",
    "    with open(p(path, 'insert', 'average_case.in'), 'w') as insert:\n",
    "        with open(p(path, 'start_remove', 'average_case.in'), 'w') as start_remove:\n",
    "            with open(p(path, 'end_remove', 'average_case.in'), 'w') as end_remove:\n",
    "                nums = np.random.permutation(size + 1)\n",
    "                for num in nums:\n",
    "                    insert.write(f'1 {num}\\n')\n",
    "                    start_remove.write(f'1 {num}\\n')\n",
    "                    end_remove.write(f'1 {num}\\n')\n",
    "                for num in nums:\n",
    "                    start_remove.write(f'2 {num}\\n')\n",
    "                for num in reversed(nums):\n",
    "                    end_remove.write(f'2 {num}\\n')\n",
    "                insert.write('0\\n')\n",
    "                start_remove.write('0\\n')\n",
    "                end_remove.write('0\\n')\n",
    "    with open(p(path, 'insert', 'best_case.in'), 'w') as insert:\n",
    "        with open(p(path, 'start_remove', 'best_case.in'), 'w') as start_remove:\n",
    "            with open(p(path, 'end_remove', 'best_case.in'), 'w') as end_remove:\n",
    "                result = []\n",
    "                div = 2\n",
    "                for _ in range(20):\n",
    "                    result.extend(round(mul * size / div) for mul in range(1, div, 2))\n",
    "                    div *= 2\n",
    "                result = list(dict.fromkeys(result))\n",
    "                for num in result:\n",
    "                    insert.write(f'1 {num}\\n')\n",
    "                    start_remove.write(f'1 {num}\\n')\n",
    "                    end_remove.write(f'1 {num}\\n')\n",
    "                for num in result:\n",
    "                    start_remove.write(f'2 {num}\\n')\n",
    "                for num in reversed(result):\n",
    "                    end_remove.write(f'2 {num}\\n')\n",
    "                insert.write('0\\n')\n",
    "                start_remove.write('0\\n')\n",
    "                end_remove.write('0\\n')\n",
    "\n",
    "def run_script(tree, input, output):\n",
    "    trees = p(path, 'trees')\n",
    "    with open(input) as input_file:\n",
    "        with open(output, 'w') as output_file:\n",
    "            subprocess.run(p(trees, tree, f'{tree}.out'), stdin=input_file, stdout=output_file)"
   ]
  },
  {
   "cell_type": "code",
   "execution_count": 13,
   "metadata": {},
   "outputs": [],
   "source": [
    "compile_script('bst')\n",
    "compile_script('avl')\n",
    "compile_script('rb')"
   ]
  },
  {
   "cell_type": "code",
   "execution_count": 17,
   "metadata": {},
   "outputs": [
    {
     "ename": "FileNotFoundError",
     "evalue": "[Errno 2] No such file or directory: '/media/HDD/Documents/BCC/3-periodo/mc/inputs/insert/worst_case.in'",
     "output_type": "error",
     "traceback": [
      "\u001b[0;31m---------------------------------------------------------------------------\u001b[0m",
      "\u001b[0;31mFileNotFoundError\u001b[0m                         Traceback (most recent call last)",
      "Cell \u001b[0;32mIn[17], line 1\u001b[0m\n\u001b[0;32m----> 1\u001b[0m generate_inputs(\u001b[39mf\u001b[39;49m\u001b[39m'\u001b[39;49m\u001b[39m{\u001b[39;49;00mpath\u001b[39m}\u001b[39;49;00m\u001b[39m/inputs\u001b[39;49m\u001b[39m'\u001b[39;49m, \u001b[39m200000\u001b[39;49m)\n",
      "Cell \u001b[0;32mIn[12], line 15\u001b[0m, in \u001b[0;36mgenerate_inputs\u001b[0;34m(path, size)\u001b[0m\n\u001b[1;32m     14\u001b[0m \u001b[39mdef\u001b[39;00m \u001b[39mgenerate_inputs\u001b[39m(path, size):\n\u001b[0;32m---> 15\u001b[0m     \u001b[39mwith\u001b[39;00m \u001b[39mopen\u001b[39;49m(p(path, \u001b[39m'\u001b[39;49m\u001b[39minsert\u001b[39;49m\u001b[39m'\u001b[39;49m, \u001b[39m'\u001b[39;49m\u001b[39mworst_case.in\u001b[39;49m\u001b[39m'\u001b[39;49m), \u001b[39m'\u001b[39;49m\u001b[39mw\u001b[39;49m\u001b[39m'\u001b[39;49m) \u001b[39mas\u001b[39;00m insert:\n\u001b[1;32m     16\u001b[0m         \u001b[39mwith\u001b[39;00m \u001b[39mopen\u001b[39m(p(path, \u001b[39m'\u001b[39m\u001b[39mstart_remove\u001b[39m\u001b[39m'\u001b[39m, \u001b[39m'\u001b[39m\u001b[39mworst_case.in\u001b[39m\u001b[39m'\u001b[39m), \u001b[39m'\u001b[39m\u001b[39mw\u001b[39m\u001b[39m'\u001b[39m) \u001b[39mas\u001b[39;00m start_remove:\n\u001b[1;32m     17\u001b[0m             \u001b[39mwith\u001b[39;00m \u001b[39mopen\u001b[39m(p(path, \u001b[39m'\u001b[39m\u001b[39mend_remove\u001b[39m\u001b[39m'\u001b[39m, \u001b[39m'\u001b[39m\u001b[39mworst_case.in\u001b[39m\u001b[39m'\u001b[39m), \u001b[39m'\u001b[39m\u001b[39mw\u001b[39m\u001b[39m'\u001b[39m) \u001b[39mas\u001b[39;00m end_remove:\n",
      "File \u001b[0;32m/media/HDD/Documents/BCC/3-periodo/mc/.conda/lib/python3.11/site-packages/IPython/core/interactiveshell.py:284\u001b[0m, in \u001b[0;36m_modified_open\u001b[0;34m(file, *args, **kwargs)\u001b[0m\n\u001b[1;32m    277\u001b[0m \u001b[39mif\u001b[39;00m file \u001b[39min\u001b[39;00m {\u001b[39m0\u001b[39m, \u001b[39m1\u001b[39m, \u001b[39m2\u001b[39m}:\n\u001b[1;32m    278\u001b[0m     \u001b[39mraise\u001b[39;00m \u001b[39mValueError\u001b[39;00m(\n\u001b[1;32m    279\u001b[0m         \u001b[39mf\u001b[39m\u001b[39m\"\u001b[39m\u001b[39mIPython won\u001b[39m\u001b[39m'\u001b[39m\u001b[39mt let you open fd=\u001b[39m\u001b[39m{\u001b[39;00mfile\u001b[39m}\u001b[39;00m\u001b[39m by default \u001b[39m\u001b[39m\"\u001b[39m\n\u001b[1;32m    280\u001b[0m         \u001b[39m\"\u001b[39m\u001b[39mas it is likely to crash IPython. If you know what you are doing, \u001b[39m\u001b[39m\"\u001b[39m\n\u001b[1;32m    281\u001b[0m         \u001b[39m\"\u001b[39m\u001b[39myou can use builtins\u001b[39m\u001b[39m'\u001b[39m\u001b[39m open.\u001b[39m\u001b[39m\"\u001b[39m\n\u001b[1;32m    282\u001b[0m     )\n\u001b[0;32m--> 284\u001b[0m \u001b[39mreturn\u001b[39;00m io_open(file, \u001b[39m*\u001b[39;49margs, \u001b[39m*\u001b[39;49m\u001b[39m*\u001b[39;49mkwargs)\n",
      "\u001b[0;31mFileNotFoundError\u001b[0m: [Errno 2] No such file or directory: '/media/HDD/Documents/BCC/3-periodo/mc/inputs/insert/worst_case.in'"
     ]
    }
   ],
   "source": [
    "generate_inputs(f'{path}/inputs', 200000)"
   ]
  },
  {
   "cell_type": "code",
   "execution_count": 115,
   "metadata": {},
   "outputs": [
    {
     "ename": "KeyboardInterrupt",
     "evalue": "",
     "output_type": "error",
     "traceback": [
      "\u001b[0;31m---------------------------------------------------------------------------\u001b[0m",
      "\u001b[0;31mKeyboardInterrupt\u001b[0m                         Traceback (most recent call last)",
      "Cell \u001b[0;32mIn[115], line 1\u001b[0m\n\u001b[0;32m----> 1\u001b[0m run_script(\u001b[39m'\u001b[39;49m\u001b[39mbst\u001b[39;49m\u001b[39m'\u001b[39;49m, \u001b[39mf\u001b[39;49m\u001b[39m'\u001b[39;49m\u001b[39m{\u001b[39;49;00mpath\u001b[39m}\u001b[39;49;00m\u001b[39m/inputs/insert/worst_case\u001b[39;49m\u001b[39m'\u001b[39;49m, \u001b[39mf\u001b[39;49m\u001b[39m'\u001b[39;49m\u001b[39m{\u001b[39;49;00mpath\u001b[39m}\u001b[39;49;00m\u001b[39m/outputs/insert/bst_worst_case.csv\u001b[39;49m\u001b[39m'\u001b[39;49m)\n\u001b[1;32m      2\u001b[0m run_script(\u001b[39m'\u001b[39m\u001b[39mbst\u001b[39m\u001b[39m'\u001b[39m, \u001b[39mf\u001b[39m\u001b[39m'\u001b[39m\u001b[39m{\u001b[39;00mpath\u001b[39m}\u001b[39;00m\u001b[39m/inputs/insert/average_case\u001b[39m\u001b[39m'\u001b[39m, \u001b[39mf\u001b[39m\u001b[39m'\u001b[39m\u001b[39m{\u001b[39;00mpath\u001b[39m}\u001b[39;00m\u001b[39m/outputs/insert/bst_average_case.csv\u001b[39m\u001b[39m'\u001b[39m)\n\u001b[1;32m      3\u001b[0m run_script(\u001b[39m'\u001b[39m\u001b[39mbst\u001b[39m\u001b[39m'\u001b[39m, \u001b[39mf\u001b[39m\u001b[39m'\u001b[39m\u001b[39m{\u001b[39;00mpath\u001b[39m}\u001b[39;00m\u001b[39m/inputs/insert/best_case\u001b[39m\u001b[39m'\u001b[39m, \u001b[39mf\u001b[39m\u001b[39m'\u001b[39m\u001b[39m{\u001b[39;00mpath\u001b[39m}\u001b[39;00m\u001b[39m/outputs/insert/bst_best_case.csv\u001b[39m\u001b[39m'\u001b[39m)\n",
      "Cell \u001b[0;32mIn[105], line 70\u001b[0m, in \u001b[0;36mrun_script\u001b[0;34m(tree, input, output)\u001b[0m\n\u001b[1;32m     68\u001b[0m \u001b[39mwith\u001b[39;00m \u001b[39mopen\u001b[39m(\u001b[39minput\u001b[39m) \u001b[39mas\u001b[39;00m input_file:\n\u001b[1;32m     69\u001b[0m     \u001b[39mwith\u001b[39;00m \u001b[39mopen\u001b[39m(output, \u001b[39m'\u001b[39m\u001b[39mw\u001b[39m\u001b[39m'\u001b[39m) \u001b[39mas\u001b[39;00m output_file:\n\u001b[0;32m---> 70\u001b[0m         subprocess\u001b[39m.\u001b[39;49mrun(p\u001b[39m.\u001b[39;49mjoin(trees, tree, \u001b[39mf\u001b[39;49m\u001b[39m'\u001b[39;49m\u001b[39m{\u001b[39;49;00mtree\u001b[39m}\u001b[39;49;00m\u001b[39m.out\u001b[39;49m\u001b[39m'\u001b[39;49m), stdin\u001b[39m=\u001b[39;49minput_file, stdout\u001b[39m=\u001b[39;49moutput_file)\n",
      "File \u001b[0;32m/media/HDD/Documents/BCC/3-periodo/mc/.conda/lib/python3.11/subprocess.py:550\u001b[0m, in \u001b[0;36mrun\u001b[0;34m(input, capture_output, timeout, check, *popenargs, **kwargs)\u001b[0m\n\u001b[1;32m    548\u001b[0m \u001b[39mwith\u001b[39;00m Popen(\u001b[39m*\u001b[39mpopenargs, \u001b[39m*\u001b[39m\u001b[39m*\u001b[39mkwargs) \u001b[39mas\u001b[39;00m process:\n\u001b[1;32m    549\u001b[0m     \u001b[39mtry\u001b[39;00m:\n\u001b[0;32m--> 550\u001b[0m         stdout, stderr \u001b[39m=\u001b[39m process\u001b[39m.\u001b[39;49mcommunicate(\u001b[39minput\u001b[39;49m, timeout\u001b[39m=\u001b[39;49mtimeout)\n\u001b[1;32m    551\u001b[0m     \u001b[39mexcept\u001b[39;00m TimeoutExpired \u001b[39mas\u001b[39;00m exc:\n\u001b[1;32m    552\u001b[0m         process\u001b[39m.\u001b[39mkill()\n",
      "File \u001b[0;32m/media/HDD/Documents/BCC/3-periodo/mc/.conda/lib/python3.11/subprocess.py:1199\u001b[0m, in \u001b[0;36mPopen.communicate\u001b[0;34m(self, input, timeout)\u001b[0m\n\u001b[1;32m   1197\u001b[0m         stderr \u001b[39m=\u001b[39m \u001b[39mself\u001b[39m\u001b[39m.\u001b[39mstderr\u001b[39m.\u001b[39mread()\n\u001b[1;32m   1198\u001b[0m         \u001b[39mself\u001b[39m\u001b[39m.\u001b[39mstderr\u001b[39m.\u001b[39mclose()\n\u001b[0;32m-> 1199\u001b[0m     \u001b[39mself\u001b[39;49m\u001b[39m.\u001b[39;49mwait()\n\u001b[1;32m   1200\u001b[0m \u001b[39melse\u001b[39;00m:\n\u001b[1;32m   1201\u001b[0m     \u001b[39mif\u001b[39;00m timeout \u001b[39mis\u001b[39;00m \u001b[39mnot\u001b[39;00m \u001b[39mNone\u001b[39;00m:\n",
      "File \u001b[0;32m/media/HDD/Documents/BCC/3-periodo/mc/.conda/lib/python3.11/subprocess.py:1262\u001b[0m, in \u001b[0;36mPopen.wait\u001b[0;34m(self, timeout)\u001b[0m\n\u001b[1;32m   1260\u001b[0m     endtime \u001b[39m=\u001b[39m _time() \u001b[39m+\u001b[39m timeout\n\u001b[1;32m   1261\u001b[0m \u001b[39mtry\u001b[39;00m:\n\u001b[0;32m-> 1262\u001b[0m     \u001b[39mreturn\u001b[39;00m \u001b[39mself\u001b[39;49m\u001b[39m.\u001b[39;49m_wait(timeout\u001b[39m=\u001b[39;49mtimeout)\n\u001b[1;32m   1263\u001b[0m \u001b[39mexcept\u001b[39;00m \u001b[39mKeyboardInterrupt\u001b[39;00m:\n\u001b[1;32m   1264\u001b[0m     \u001b[39m# https://bugs.python.org/issue25942\u001b[39;00m\n\u001b[1;32m   1265\u001b[0m     \u001b[39m# The first keyboard interrupt waits briefly for the child to\u001b[39;00m\n\u001b[1;32m   1266\u001b[0m     \u001b[39m# exit under the common assumption that it also received the ^C\u001b[39;00m\n\u001b[1;32m   1267\u001b[0m     \u001b[39m# generated SIGINT and will exit rapidly.\u001b[39;00m\n\u001b[1;32m   1268\u001b[0m     \u001b[39mif\u001b[39;00m timeout \u001b[39mis\u001b[39;00m \u001b[39mnot\u001b[39;00m \u001b[39mNone\u001b[39;00m:\n",
      "File \u001b[0;32m/media/HDD/Documents/BCC/3-periodo/mc/.conda/lib/python3.11/subprocess.py:2013\u001b[0m, in \u001b[0;36mPopen._wait\u001b[0;34m(self, timeout)\u001b[0m\n\u001b[1;32m   2011\u001b[0m \u001b[39mif\u001b[39;00m \u001b[39mself\u001b[39m\u001b[39m.\u001b[39mreturncode \u001b[39mis\u001b[39;00m \u001b[39mnot\u001b[39;00m \u001b[39mNone\u001b[39;00m:\n\u001b[1;32m   2012\u001b[0m     \u001b[39mbreak\u001b[39;00m  \u001b[39m# Another thread waited.\u001b[39;00m\n\u001b[0;32m-> 2013\u001b[0m (pid, sts) \u001b[39m=\u001b[39m \u001b[39mself\u001b[39;49m\u001b[39m.\u001b[39;49m_try_wait(\u001b[39m0\u001b[39;49m)\n\u001b[1;32m   2014\u001b[0m \u001b[39m# Check the pid and loop as waitpid has been known to\u001b[39;00m\n\u001b[1;32m   2015\u001b[0m \u001b[39m# return 0 even without WNOHANG in odd situations.\u001b[39;00m\n\u001b[1;32m   2016\u001b[0m \u001b[39m# http://bugs.python.org/issue14396.\u001b[39;00m\n\u001b[1;32m   2017\u001b[0m \u001b[39mif\u001b[39;00m pid \u001b[39m==\u001b[39m \u001b[39mself\u001b[39m\u001b[39m.\u001b[39mpid:\n",
      "File \u001b[0;32m/media/HDD/Documents/BCC/3-periodo/mc/.conda/lib/python3.11/subprocess.py:1971\u001b[0m, in \u001b[0;36mPopen._try_wait\u001b[0;34m(self, wait_flags)\u001b[0m\n\u001b[1;32m   1969\u001b[0m \u001b[39m\u001b[39m\u001b[39m\"\"\"All callers to this function MUST hold self._waitpid_lock.\"\"\"\u001b[39;00m\n\u001b[1;32m   1970\u001b[0m \u001b[39mtry\u001b[39;00m:\n\u001b[0;32m-> 1971\u001b[0m     (pid, sts) \u001b[39m=\u001b[39m os\u001b[39m.\u001b[39mwaitpid(\u001b[39mself\u001b[39m\u001b[39m.\u001b[39mpid, wait_flags)\n\u001b[1;32m   1972\u001b[0m \u001b[39mexcept\u001b[39;00m \u001b[39mChildProcessError\u001b[39;00m:\n\u001b[1;32m   1973\u001b[0m     \u001b[39m# This happens if SIGCLD is set to be ignored or waiting\u001b[39;00m\n\u001b[1;32m   1974\u001b[0m     \u001b[39m# for child processes has otherwise been disabled for our\u001b[39;00m\n\u001b[1;32m   1975\u001b[0m     \u001b[39m# process.  This child is dead, we can't get the status.\u001b[39;00m\n\u001b[1;32m   1976\u001b[0m     pid \u001b[39m=\u001b[39m \u001b[39mself\u001b[39m\u001b[39m.\u001b[39mpid\n",
      "\u001b[0;31mKeyboardInterrupt\u001b[0m: "
     ]
    }
   ],
   "source": [
    "run_script('bst', f'{path}/inputs/insert/worst_case.in', f'{path}/outputs/insert/bst_worst_case.csv')\n",
    "run_script('bst', f'{path}/inputs/insert/average_case.in', f'{path}/outputs/insert/bst_average_case.csv')\n",
    "run_script('bst', f'{path}/inputs/insert/best_case.in', f'{path}/outputs/insert/bst_best_case.csv')\n",
    "run_script('bst', f'{path}/inputs/start_remove/worst_case.in', f'{path}/outputs/start_remove/bst_worst_case.csv')\n",
    "run_script('bst', f'{path}/inputs/start_remove/average_case.in', f'{path}/outputs/start_remove/bst_average_case.csv')\n",
    "run_script('bst', f'{path}/inputs/start_remove/best_case.in', f'{path}/outputs/start_remove/bst_best_case.csv')\n",
    "run_script('bst', f'{path}/inputs/end_remove/worst_case.in', f'{path}/outputs/end_remove/bst_worst_case.csv')\n",
    "run_script('bst', f'{path}/inputs/end_remove/average_case.in', f'{path}/outputs/end_remove/bst_average_case.csv')\n",
    "run_script('bst', f'{path}/inputs/end_remove/best_case.in', f'{path}/outputs/end_remove/bst_best_case.csv')"
   ]
  },
  {
   "cell_type": "code",
   "execution_count": null,
   "metadata": {},
   "outputs": [],
   "source": [
    "run_script('avl', f'{path}/inputs/insert/worst_case.in', f'{path}/outputs/insert/avl_worst_case.csv')\n",
    "run_script('avl', f'{path}/inputs/insert/average_case.in', f'{path}/outputs/insert/avl_average_case.csv')\n",
    "run_script('avl', f'{path}/inputs/insert/best_case.in', f'{path}/outputs/insert/avl_best_case.csv')\n",
    "run_script('avl', f'{path}/inputs/start_remove/worst_case.in', f'{path}/outputs/start_remove/avl_worst_case.csv')\n",
    "run_script('avl', f'{path}/inputs/start_remove/average_case.in', f'{path}/outputs/start_remove/avl_average_case.csv')\n",
    "run_script('avl', f'{path}/inputs/start_remove/best_case.in', f'{path}/outputs/start_remove/avl_best_case.csv')\n",
    "run_script('avl', f'{path}/inputs/end_remove/worst_case.in', f'{path}/outputs/end_remove/avl_worst_case.csv')\n",
    "run_script('avl', f'{path}/inputs/end_remove/average_case.in', f'{path}/outputs/end_remove/avl_average_case.csv')\n",
    "run_script('avl', f'{path}/inputs/end_remove/best_case.in', f'{path}/outputs/end_remove/avl_best_case.csv')"
   ]
  },
  {
   "cell_type": "code",
   "execution_count": null,
   "metadata": {},
   "outputs": [],
   "source": [
    "run_script('rb', f'{path}/inputs/insert/worst_case.in', f'{path}/outputs/insert/rb_worst_case.csv')\n",
    "run_script('rb', f'{path}/inputs/insert/average_case.in', f'{path}/outputs/insert/rb_average_case.csv')\n",
    "run_script('rb', f'{path}/inputs/insert/best_case.in', f'{path}/outputs/insert/rb_best_case.csv')\n",
    "run_script('rb', f'{path}/inputs/start_remove/worst_case.in', f'{path}/outputs/start_remove/rb_worst_case.csv')\n",
    "run_script('rb', f'{path}/inputs/start_remove/average_case.in', f'{path}/outputs/start_remove/rb_average_case.csv')\n",
    "run_script('rb', f'{path}/inputs/start_remove/best_case.in', f'{path}/outputs/start_remove/rb_best_case.csv')\n",
    "run_script('rb', f'{path}/inputs/end_remove/worst_case.in', f'{path}/outputs/end_remove/rb_worst_case.csv')\n",
    "run_script('rb', f'{path}/inputs/end_remove/average_case.in', f'{path}/outputs/end_remove/rb_average_case.csv')\n",
    "run_script('rb', f'{path}/inputs/end_remove/best_case.in', f'{path}/outputs/end_remove/rb_best_case.csv')"
   ]
  }
 ],
 "metadata": {
  "kernelspec": {
   "display_name": "Python 3",
   "language": "python",
   "name": "python3"
  },
  "language_info": {
   "codemirror_mode": {
    "name": "ipython",
    "version": 3
   },
   "file_extension": ".py",
   "mimetype": "text/x-python",
   "name": "python",
   "nbconvert_exporter": "python",
   "pygments_lexer": "ipython3",
   "version": "3.11.3"
  },
  "orig_nbformat": 4
 },
 "nbformat": 4,
 "nbformat_minor": 2
}
